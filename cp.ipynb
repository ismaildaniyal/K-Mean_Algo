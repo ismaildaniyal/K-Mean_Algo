{
 "cells": [
  {
   "cell_type": "code",
   "execution_count": null,
   "metadata": {
    "vscode": {
     "languageId": "plaintext"
    }
   },
   "outputs": [],
   "source": [
    "import numpy as np\n",
    "\n",
    "def initialize_centroids(data, k):\n",
    "    np.random.seed(42)\n",
    "    random_indices = np.random.permutation(data.shape[0])\n",
    "    centroids = data[random_indices[:k]]\n",
    "    return centroids\n",
    "\n",
    "def assign_clusters(data, centroids):\n",
    "    distances = np.sqrt(((data - centroids[:, np.newaxis])**2).sum(axis=2))\n",
    "    return np.argmin(distances, axis=0)\n",
    "\n",
    "def update_centroids(data, labels, k):\n",
    "    new_centroids = np.array([data[labels == i].mean(axis=0) for i in range(k)])\n",
    "    return new_centroids\n",
    "\n",
    "def k_means(data, k, max_iters=50):\n",
    "    centroids = initialize_centroids(data, k)\n",
    "    iterations = 0\n",
    "    for _ in range(max_iters):\n",
    "        labels = assign_clusters(data, centroids)\n",
    "        new_centroids = update_centroids(data, labels, k)\n",
    "        if np.all(centroids == new_centroids):\n",
    "            break\n",
    "        centroids = new_centroids\n",
    "        iterations += 1\n",
    "    return centroids, labels, iterations\n",
    "\n",
    "data = df.drop(columns=['Id']).values\n",
    "\n",
    "k = 3 \n",
    "centroids, labels, iter= k_means(data, k)\n",
    "\n",
    "print(\"Centroids:\\n\", centroids)\n",
    "print(\"Labels:\\n\", labels)\n",
    "print(\"Total Iteration:\\n\", iter)"
   ]
  }
 ],
 "metadata": {
  "language_info": {
   "name": "python"
  }
 },
 "nbformat": 4,
 "nbformat_minor": 2
}
